{
 "cells": [
  {
   "cell_type": "code",
   "execution_count": 1,
   "metadata": {},
   "outputs": [
    {
     "data": {
      "text/html": [
       "'Tue Oct 22 17:56:51 2019'"
      ],
      "text/latex": [
       "'Tue Oct 22 17:56:51 2019'"
      ],
      "text/markdown": [
       "'Tue Oct 22 17:56:51 2019'"
      ],
      "text/plain": [
       "[1] \"Tue Oct 22 17:56:51 2019\""
      ]
     },
     "metadata": {},
     "output_type": "display_data"
    }
   ],
   "source": [
    "date()"
   ]
  },
  {
   "cell_type": "code",
   "execution_count": 3,
   "metadata": {},
   "outputs": [
    {
     "name": "stderr",
     "output_type": "stream",
     "text": [
      "Updating HTML index of packages in '.Library'\n",
      "Making 'packages.html' ... done\n"
     ]
    }
   ],
   "source": [
    "install.packages(\"BiocManager\")"
   ]
  },
  {
   "cell_type": "code",
   "execution_count": 7,
   "metadata": {},
   "outputs": [
    {
     "name": "stderr",
     "output_type": "stream",
     "text": [
      "Bioconductor version 3.10 (BiocManager 1.30.8), R 3.6.1 (2019-07-05)\n",
      "Installing package(s) 'BiocVersion'\n",
      "Updating HTML index of packages in '.Library'\n",
      "Making 'packages.html' ... done\n",
      "Installing package(s) 'backports', 'callr', 'curl', 'data.table', 'devtools',\n",
      "  'digest', 'ellipsis', 'forecast', 'htmltools', 'htmlwidgets', 'KernSmooth',\n",
      "  'knitr', 'later', 'nycflights13', 'pkgbuild', 'pkgconfig', 'promises',\n",
      "  'purrr', 'RcppArmadillo', 'recipes', 'rmarkdown', 'shiny', 'sparklyr',\n",
      "  'tidyr', 'tinytex', 'TTR', 'xfun'\n",
      "also installing the dependencies ‘rex’, ‘crosstalk’, ‘covr’, ‘DT’, ‘rversions’, ‘BH’, ‘fastmap’, ‘lifecycle’\n",
      "\n",
      "Updating HTML index of packages in '.Library'\n",
      "Making 'packages.html' ... done\n"
     ]
    }
   ],
   "source": [
    "BiocManager::install(version=\"3.10\", ask=FALSE)"
   ]
  },
  {
   "cell_type": "code",
   "execution_count": 8,
   "metadata": {},
   "outputs": [
    {
     "data": {
      "text/html": [
       "'/opt/conda/lib/R/library'"
      ],
      "text/latex": [
       "'/opt/conda/lib/R/library'"
      ],
      "text/markdown": [
       "'/opt/conda/lib/R/library'"
      ],
      "text/plain": [
       "[1] \"/opt/conda/lib/R/library\""
      ]
     },
     "metadata": {},
     "output_type": "display_data"
    }
   ],
   "source": [
    ".libPaths()"
   ]
  },
  {
   "cell_type": "code",
   "execution_count": 9,
   "metadata": {},
   "outputs": [
    {
     "name": "stderr",
     "output_type": "stream",
     "text": [
      "Bioconductor version 3.10 (BiocManager 1.30.8), R 3.6.1 (2019-07-05)\n",
      "Installing package(s) 'rhdf5client'\n",
      "also installing the dependencies ‘formatR’, ‘lambda.r’, ‘futile.options’, ‘futile.logger’, ‘snow’, ‘matrixStats’, ‘BiocGenerics’, ‘IRanges’, ‘BiocParallel’, ‘DelayedArray’, ‘S4Vectors’, ‘rjson’\n",
      "\n",
      "Updating HTML index of packages in '.Library'\n",
      "Making 'packages.html' ... done\n",
      "Old packages: 'mgcv'\n"
     ]
    }
   ],
   "source": [
    "BiocManager::install(\"rhdf5client\")"
   ]
  },
  {
   "cell_type": "code",
   "execution_count": 10,
   "metadata": {},
   "outputs": [
    {
     "name": "stderr",
     "output_type": "stream",
     "text": [
      "Loading required package: DelayedArray\n",
      "Loading required package: stats4\n",
      "Loading required package: matrixStats\n",
      "Loading required package: BiocGenerics\n",
      "Loading required package: parallel\n",
      "\n",
      "Attaching package: ‘BiocGenerics’\n",
      "\n",
      "The following objects are masked from ‘package:parallel’:\n",
      "\n",
      "    clusterApply, clusterApplyLB, clusterCall, clusterEvalQ,\n",
      "    clusterExport, clusterMap, parApply, parCapply, parLapply,\n",
      "    parLapplyLB, parRapply, parSapply, parSapplyLB\n",
      "\n",
      "The following objects are masked from ‘package:stats’:\n",
      "\n",
      "    IQR, mad, sd, var, xtabs\n",
      "\n",
      "The following objects are masked from ‘package:base’:\n",
      "\n",
      "    anyDuplicated, append, as.data.frame, basename, cbind, colnames,\n",
      "    dirname, do.call, duplicated, eval, evalq, Filter, Find, get, grep,\n",
      "    grepl, intersect, is.unsorted, lapply, Map, mapply, match, mget,\n",
      "    order, paste, pmax, pmax.int, pmin, pmin.int, Position, rank,\n",
      "    rbind, Reduce, rownames, sapply, setdiff, sort, table, tapply,\n",
      "    union, unique, unsplit, which, which.max, which.min\n",
      "\n",
      "Loading required package: S4Vectors\n",
      "\n",
      "Attaching package: ‘S4Vectors’\n",
      "\n",
      "The following object is masked from ‘package:base’:\n",
      "\n",
      "    expand.grid\n",
      "\n",
      "Loading required package: IRanges\n",
      "Loading required package: BiocParallel\n",
      "\n",
      "Attaching package: ‘DelayedArray’\n",
      "\n",
      "The following objects are masked from ‘package:matrixStats’:\n",
      "\n",
      "    colMaxs, colMins, colRanges, rowMaxs, rowMins, rowRanges\n",
      "\n",
      "The following objects are masked from ‘package:base’:\n",
      "\n",
      "    aperm, apply, rowsum\n",
      "\n"
     ]
    }
   ],
   "source": [
    "library(rhdf5client)"
   ]
  },
  {
   "cell_type": "code",
   "execution_count": 11,
   "metadata": {},
   "outputs": [
    {
     "name": "stderr",
     "output_type": "stream",
     "text": [
      "Warning message in example(HSDSArray):\n",
      "“‘HSDSArray’ has a help file but no examples”"
     ]
    }
   ],
   "source": [
    "example(HSDSArray)"
   ]
  },
  {
   "cell_type": "code",
   "execution_count": 12,
   "metadata": {},
   "outputs": [
    {
     "data": {
      "text/html": [
       "<pre class=language-r><code>function (endpoint, svrtype, domain, dsetname) \n",
       "{\n",
       "<span style=white-space:pre-wrap>    DelayedArray(HSDSArraySeed(endpoint, svrtype, domain, dsetname))</span>\n",
       "}</code></pre>"
      ],
      "text/latex": [
       "\\begin{minted}{r}\n",
       "function (endpoint, svrtype, domain, dsetname) \n",
       "\\{\n",
       "    DelayedArray(HSDSArraySeed(endpoint, svrtype, domain, dsetname))\n",
       "\\}\n",
       "\\end{minted}"
      ],
      "text/markdown": [
       "```r\n",
       "function (endpoint, svrtype, domain, dsetname) \n",
       "{\n",
       "    DelayedArray(HSDSArraySeed(endpoint, svrtype, domain, dsetname))\n",
       "}\n",
       "```"
      ],
      "text/plain": [
       "function (endpoint, svrtype, domain, dsetname) \n",
       "{\n",
       "    DelayedArray(HSDSArraySeed(endpoint, svrtype, domain, dsetname))\n",
       "}\n",
       "<bytecode: 0x558356f1f688>\n",
       "<environment: namespace:rhdf5client>"
      ]
     },
     "metadata": {},
     "output_type": "display_data"
    }
   ],
   "source": [
    "HSDSArray"
   ]
  },
  {
   "cell_type": "code",
   "execution_count": 13,
   "metadata": {},
   "outputs": [
    {
     "data": {
      "text/plain": [
       "<65218 x 3584> matrix of class HSDSMatrix and type \"double\":\n",
       "                [,1]        [,2]        [,3] ...    [,3583]    [,3584]\n",
       "    [1,]    0.000000    0.000000  112.394374   .    0.00000    0.00000\n",
       "    [2,]    0.000000    0.000000    0.000000   .    0.00000    0.00000\n",
       "    [3,]    0.000000    0.000000    0.000000   .    0.00000    0.00000\n",
       "    [4,]    5.335452   11.685833    0.000000   .    0.00000   14.01612\n",
       "    [5,]    0.000000    0.000000    0.000000   .    0.00000    0.00000\n",
       "     ...           .           .           .   .          .          .\n",
       "[65214,]     0.00000     0.00000     0.00000   .    0.00000    0.00000\n",
       "[65215,]   480.68946  1228.13851   112.75566   .    0.00000    0.00000\n",
       "[65216,]     0.00000     0.00000     0.00000   .    0.00000    0.00000\n",
       "[65217,]     0.00000   610.82997    46.86639   .    0.00000    0.00000\n",
       "[65218,] 10155.80336 25366.30099  2068.63983   .    4.01555 2531.88862"
      ]
     },
     "metadata": {},
     "output_type": "display_data"
    }
   ],
   "source": [
    "HSDSArray(URL_hsds(), \"hsds\", \"/shared/bioconductor/darmgcls.h5\", \"/assay001\")"
   ]
  },
  {
   "cell_type": "code",
   "execution_count": 15,
   "metadata": {},
   "outputs": [
    {
     "data": {
      "text/html": [],
      "text/latex": [],
      "text/markdown": [],
      "text/plain": [
       "character(0)"
      ]
     },
     "metadata": {},
     "output_type": "display_data"
    }
   ],
   "source": [
    "dir(\"opt/conda/lib/\")"
   ]
  },
  {
   "cell_type": "code",
   "execution_count": null,
   "metadata": {},
   "outputs": [],
   "source": []
  }
 ],
 "metadata": {
  "kernelspec": {
   "display_name": "R",
   "language": "R",
   "name": "ir"
  },
  "language_info": {
   "codemirror_mode": "r",
   "file_extension": ".r",
   "mimetype": "text/x-r-source",
   "name": "R",
   "pygments_lexer": "r",
   "version": "3.6.1"
  }
 },
 "nbformat": 4,
 "nbformat_minor": 4
}
